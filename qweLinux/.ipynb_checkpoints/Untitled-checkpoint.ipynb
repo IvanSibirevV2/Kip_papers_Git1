{
 "cells": [
  {
   "cell_type": "code",
   "execution_count": 1,
   "id": "6b7febce",
   "metadata": {},
   "outputs": [
    {
     "name": "stdout",
     "output_type": "stream",
     "text": [
      "\\Untitled.ipynb : 6.866455078125e-05  мегобайт  2025-04-11 10:25:04.729443\n"
     ]
    }
   ],
   "source": [
    "import os;import math;import sys;import datetime;\n",
    "var='\\\\Untitled.ipynb'\n",
    "print (var,':',os.path.getsize(os.path.abspath(os.curdir)+var)/math.pow(2, 20),' мегобайт ',datetime.datetime.now())"
   ]
  },
  {
   "cell_type": "markdown",
   "id": "711796e5",
   "metadata": {},
   "source": []
  },
  {
   "cell_type": "markdown",
   "id": "92d361d9",
   "metadata": {},
   "source": []
  },
  {
   "cell_type": "markdown",
   "id": "2afda757",
   "metadata": {},
   "source": []
  },
  {
   "cell_type": "markdown",
   "id": "f1fe369e",
   "metadata": {},
   "source": []
  },
  {
   "cell_type": "markdown",
   "id": "5c7ad40f",
   "metadata": {},
   "source": []
  },
  {
   "cell_type": "markdown",
   "id": "0918b8fa",
   "metadata": {},
   "source": []
  },
  {
   "cell_type": "markdown",
   "id": "86eda961",
   "metadata": {},
   "source": []
  },
  {
   "cell_type": "markdown",
   "id": "e2f242f2",
   "metadata": {},
   "source": []
  },
  {
   "cell_type": "markdown",
   "id": "e66ecd15",
   "metadata": {},
   "source": []
  },
  {
   "cell_type": "markdown",
   "id": "df885fa3",
   "metadata": {},
   "source": []
  }
 ],
 "metadata": {
  "kernelspec": {
   "display_name": "Python 3 (ipykernel)",
   "language": "python",
   "name": "python3"
  },
  "language_info": {
   "codemirror_mode": {
    "name": "ipython",
    "version": 3
   },
   "file_extension": ".py",
   "mimetype": "text/x-python",
   "name": "python",
   "nbconvert_exporter": "python",
   "pygments_lexer": "ipython3",
   "version": "3.11.4"
  }
 },
 "nbformat": 4,
 "nbformat_minor": 5
}
