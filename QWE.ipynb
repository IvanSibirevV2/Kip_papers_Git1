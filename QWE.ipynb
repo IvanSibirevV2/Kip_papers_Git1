{
 "cells": [
  {
   "cell_type": "markdown",
   "id": "c81d07b5",
   "metadata": {},
   "source": [
    "Примерные вопросы.\n"
   ]
  },
  {
   "cell_type": "markdown",
   "id": "5e2945b8",
   "metadata": {},
   "source": [
    "https://htmlpreview.github.io/?https://github.com/IvanSibirevV2/HowTo_CPP/blob/main/Тверь_2017/001_НизкийСтарт.html#/source\n",
    "\n",
    "https://htmlpreview.github.io/?https://github.com/IvanSibirevV2/Kip_papers/blob/main/QWE.html#/source"
   ]
  },
  {
   "cell_type": "markdown",
   "id": "beebb805",
   "metadata": {},
   "source": [
    "------------\n",
    "Перечислить и охарактеризовать подходы к определению операционной системы и ее функций.\n",
    "\n",
    "https://studfile.net/preview/9394821/page:3/"
   ]
  },
  {
   "cell_type": "markdown",
   "id": "e665501a",
   "metadata": {},
   "source": [
    "-------------------------------\n",
    "Дать определение понятию «процесс». Привести классификации процессов.\n",
    "\n",
    "https://studfile.net/preview/712980/page:5/"
   ]
  },
  {
   "attachments": {
    "image.png": {
     "image/png": "[encoded data removed]"
    }
   },
   "cell_type": "markdown",
   "id": "b0af636b",
   "metadata": {},
   "source": [
    "--------------------\n",
    "Выполнить планирование процессов с использованием алгоритма планирования FCFS. Вычислить среднее время ожидания и среднее время выполнения процессов. Процессы поступают в соответствии с их номерами в таблице:\n",
    "![image.png](attachment:image.png)\n",
    "\n",
    "https://www.guru99.com/ru/fcfs-scheduling.html\n",
    "\n",
    "https://intuit.ru/studies/courses/2192/31/lecture/972?page=3"
   ]
  },
  {
   "cell_type": "markdown",
   "id": "20ad7ae9",
   "metadata": {},
   "source": [
    "-----------------\n",
    "Перечислить и охарактеризовать функции операционных систем\n",
    "\n",
    "https://studfile.net/preview/434249/"
   ]
  },
  {
   "cell_type": "markdown",
   "id": "ffc099d6",
   "metadata": {},
   "source": [
    "------------------------\n",
    "Перечислить и охарактеризовать состояния процесса. Привести диаграмму переходов состояний процесса\n",
    "\n",
    "https://studfile.net/preview/16562946/page:6/"
   ]
  },
  {
   "cell_type": "markdown",
   "id": "ae67599d",
   "metadata": {},
   "source": [
    "-----------------\n",
    "Выведите всё строки ниже 14 в файле /etc/group:\n",
    "\n",
    "Можно на питоне"
   ]
  },
  {
   "cell_type": "markdown",
   "id": "78b42d62",
   "metadata": {},
   "source": [
    "---------------\n",
    "Дать определение операционной системы. Описать место операционной системы в структуре информационной системы\n",
    "\n",
    "https://studfile.net/preview/5946827/page:11/м"
   ]
  },
  {
   "attachments": {
    "image.png": {
     "image/png": "[encoded data removed]"
    }
   },
   "cell_type": "markdown",
   "id": "9feb3d91",
   "metadata": {},
   "source": [
    "-------------\n",
    "Вы пишете команду, нажимаете tab - но вместо опций вы видите список файлов. Нормальное ли это поведение. Если нет, в чём заключается проблема и как её решить\n",
    "\n",
    "CMD POWER SHEL BASH ...\n",
    "\n",
    "![image.png](attachment:image.png)\n",
    "\n",
    "https://habr.com/ru/articles/147870/"
   ]
  },
  {
   "cell_type": "markdown",
   "id": "f90e3c31",
   "metadata": {},
   "source": [
    "------------------------\n",
    "Создайте два алиаса с одинаковыми названиями в ~/.bashrc. Какой из них работает.\n",
    "\n",
    "https://habr.com/ru/companies/otus/articles/745882/\n",
    "\n",
    "http://meliorem.ru/tools/linux/sozdanie-aliasov-v-obolochke-bash/\n",
    "\n",
    "И да образ линуха поставить придется\n"
   ]
  },
  {
   "cell_type": "markdown",
   "id": "34e2adae",
   "metadata": {},
   "source": [
    "------------------\n",
    "Привести типовую структуру операционной системы. Охарактеризовать взаимодействие основных компонентов\n",
    "\n",
    "https://studfile.net/preview/5946827/page:11/"
   ]
  },
  {
   "cell_type": "markdown",
   "id": "21a132b5",
   "metadata": {},
   "source": [
    "----------------------\n",
    "Охарактеризовать понятие «планирование процессов». Перечислить и охарактеризовать алгоритмы планирования процессов в операционных системах\n",
    "\n",
    "https://studfile.net/preview/10012472/page:4/\n",
    "\n",
    "https://intuit.ru/studies/courses/941/31/lecture/972"
   ]
  },
  {
   "cell_type": "markdown",
   "id": "ab88dee0",
   "metadata": {},
   "source": [
    "----------------\n",
    "Создайте команду getlog, которая будет показывать последние 5 строк файла /var/log/kdump.log и одновременно добавлять вывод в файл mykernellog.\n",
    "\n",
    "можно на питоне"
   ]
  },
  {
   "cell_type": "markdown",
   "id": "32c34761",
   "metadata": {},
   "source": [
    "---------------\n",
    "Перечислить группы пользователей операционной системы. Описать их функции\n",
    "\n",
    "https://studfile.net/preview/424018/\n",
    "\n",
    "http://citforum.ru/operating_systems/winntadm/winntadm_05.shtml"
   ]
  },
  {
   "cell_type": "markdown",
   "id": "5c86f864",
   "metadata": {},
   "source": [
    "--------------------\n",
    "Дать определение понятиям «прерывание», «система прерываний». Перечислить и охарактеризовать классы прерываний\n",
    "\n",
    "https://studfile.net/preview/2566995/"
   ]
  },
  {
   "cell_type": "markdown",
   "id": "4733f089",
   "metadata": {},
   "source": [
    "----------------\n",
    "Создайте «команду» (алиас), которая бы сохраняла список алиасов в файле."
   ]
  },
  {
   "cell_type": "markdown",
   "id": "38abc062",
   "metadata": {},
   "source": [
    "-----------------------------\n",
    "Охарактеризовать периоды развития операционных систем\n",
    "\n",
    "https://studfile.net/preview/1910837/"
   ]
  },
  {
   "cell_type": "markdown",
   "id": "a7b163e4",
   "metadata": {},
   "source": [
    "--------------------\n",
    "Вы запускаете команду ls file, но ничего не происходит. У вас подозрения, что кто-то подменил команду ls. Как это проверить?"
   ]
  },
  {
   "attachments": {
    "image.png": {
     "image/png": "[encoded data removed]"
    }
   },
   "cell_type": "markdown",
   "id": "9102ad4a",
   "metadata": {},
   "source": [
    "----------------------\n",
    "Выполнить планирование процессов с использованием алгоритма планирования FCFS. Вычислить среднее время ожидания и среднее время выполнения процессов с учетом момента поступления процессов в систему.\n",
    "\n",
    "https://studfile.net/preview/8927153/\n",
    "\n",
    "![image.png](attachment:image.png)"
   ]
  },
  {
   "cell_type": "markdown",
   "id": "da171735",
   "metadata": {},
   "source": [
    "--------------------------------\n",
    "Привести классификацию операционных систем\n",
    "\n",
    "https://studfile.net/preview/7106230/page:14/"
   ]
  },
  {
   "cell_type": "markdown",
   "id": "6403356e",
   "metadata": {},
   "source": [
    "---------------------------\n",
    "Дать определение понятиям «управление памятью», «менеджер памяти». Перечислить функции операционной системы по управлению памятью\n",
    "\n",
    "https://studfile.net/preview/4252/page:6/\n",
    "\n",
    "https://moodle.kstu.ru/mod/page/view.php?id=57"
   ]
  },
  {
   "cell_type": "markdown",
   "id": "caa087cc",
   "metadata": {},
   "source": [
    "-----------------------\n",
    "Запишите в файл mykernel последние 10 строк файла /var/log/kdump.log"
   ]
  },
  {
   "cell_type": "markdown",
   "id": "d2e61a0a",
   "metadata": {},
   "source": [
    "------------------------\n",
    "Перечислить и охарактеризовать виды ядра операционной системы\n",
    "\n",
    "https://studfile.net/preview/7273204/page:2/"
   ]
  },
  {
   "cell_type": "markdown",
   "id": "3e8d7d5f",
   "metadata": {},
   "source": [
    "--------------------------\n",
    "Перечислить и охарактеризовать методы распределения памяти\n",
    "\n",
    "https://studfile.net/preview/3674957/page:15/"
   ]
  },
  {
   "cell_type": "markdown",
   "id": "886c62a6",
   "metadata": {},
   "source": [
    "-------------------\n",
    "Посмотрите файлы mykernel и /etc/DDD, при этом стандартный вывод направьте в файл result.log, а ошибки в файл /tmp/ERRORS\n"
   ]
  },
  {
   "cell_type": "markdown",
   "id": "27ddb732",
   "metadata": {},
   "source": [
    "-------------------\n",
    "Рассказать историю развития операционных систем семейства Windows\n",
    "\n",
    "https://studfile.net/preview/3320360/page:20/"
   ]
  },
  {
   "cell_type": "markdown",
   "id": "549fda8f",
   "metadata": {},
   "source": [
    "-----------------------------------\n",
    "Дать определение оперативной памяти и КЭШ-памяти. Перечислить и охарактеризовать типы адресов и виды адресного пространства вычислительной системы\n",
    "\n",
    "...\n",
    "\n",
    "https://studfile.net/preview/7305124/page:2/\n",
    "\n",
    "...\n",
    "\n",
    "Вообще это из архитектуры аппаратных средств"
   ]
  },
  {
   "cell_type": "markdown",
   "id": "38348a63",
   "metadata": {},
   "source": [
    "----------------------------------\n",
    "\n",
    "Направьте строки с 13 до 20 из файла /etc/group в файл ~/lines, а потом добавьте в этот файл 16 строку из файла /etc/passwd. "
   ]
  },
  {
   "cell_type": "markdown",
   "id": "a986cb89",
   "metadata": {},
   "source": [
    "----------------------------------------\n",
    "Рассказать историю развития операционных систем семейства Unix\n",
    "\n",
    "https://habr.com/ru/articles/147774/"
   ]
  },
  {
   "cell_type": "markdown",
   "id": "fbab8376",
   "metadata": {},
   "source": [
    "----------------------------------\n",
    "Дать определение понятию «виртуальная память». Перечислить и охарактеризовать механизмы реализации виртуальной памяти\n",
    "\n",
    "https://studfile.net/preview/4402813/"
   ]
  },
  {
   "attachments": {
    "image.png": {
     "image/png": "[encoded data removed]"
    }
   },
   "cell_type": "markdown",
   "id": "4125b362",
   "metadata": {},
   "source": [
    "----------------------------\n",
    "Выполнить планирование процессов с использованием невытесняющего алгоритма планирования SJF. Вычислить среднее время ожидания и среднее время выполнения процессов с учетом момента поступления процессов в систему.\n",
    "\n",
    "![image.png](attachment:image.png)"
   ]
  },
  {
   "cell_type": "markdown",
   "id": "f31dcd9f",
   "metadata": {},
   "source": [
    "--------------------\n",
    "Перечислить и охарактеризовать виды многозадачности, реализуемые в операционных системах\n",
    "\n",
    "https://studfile.net/preview/3638399/page:10/"
   ]
  },
  {
   "cell_type": "markdown",
   "id": "2a1a3c32",
   "metadata": {},
   "source": [
    "-----------------\n",
    "Дать определение понятию «виртуальная память». Описать технологию настройки файла подкачки в операционной системе Windows\n",
    "\n",
    "https://studfile.net/preview/4339466/page:25/"
   ]
  },
  {
   "cell_type": "markdown",
   "id": "9a578883",
   "metadata": {},
   "source": [
    "-----------------------------------\n",
    "Зайдите в директорию /usr/share/applications . Затем зайдите в директорию /var/log/chrony. Перечислите и попробуйте все способы перемещаться между этими двумя директориями."
   ]
  },
  {
   "cell_type": "markdown",
   "id": "79abc057",
   "metadata": {},
   "source": [
    "-------------------------------\n",
    "Перечислить и охарактеризовать виды интерфейсов пользователя\n",
    "\n",
    "https://intuit.ru/studies/courses/3609/851/lecture/31652?page=3"
   ]
  },
  {
   "cell_type": "markdown",
   "id": "6ffa4757",
   "metadata": {},
   "source": [
    "-------------------------\n",
    "Дать определение оперативной памяти и виртуальной памяти. Описать технологию преобразования виртуальных адресов в физические адреса\n",
    "\n",
    "https://studfile.net/preview/9512666/page:6/"
   ]
  },
  {
   "cell_type": "markdown",
   "id": "572b7980",
   "metadata": {},
   "source": [
    "----------------------\n",
    "Создайте директорию myfiles в домашней директории вашего пользователя. Скопируйте файл /etc/passwd в эту директорию. Откройте файл с помощью nano, найдите и удалите 16 строчку."
   ]
  },
  {
   "cell_type": "markdown",
   "id": "a304ad88",
   "metadata": {},
   "source": [
    "--------------------------------\n",
    "Дать определение понятию «файл». Пояснить понятие «имя файла». Перечислить и охарактеризовать атрибуты файлов\n",
    "\n",
    "https://studfile.net/preview/6058556/page:7/"
   ]
  },
  {
   "cell_type": "markdown",
   "id": "24e5250d",
   "metadata": {},
   "source": [
    "-------------------\n",
    "Перечислить и охарактеризовать политики паролей пользователей в операционной системе Windows\n",
    "\n",
    "https://studfile.net/preview/9395592/page:3/"
   ]
  },
  {
   "attachments": {
    "image.png": {
     "image/png": "[encoded data removed]"
    }
   },
   "cell_type": "markdown",
   "id": "d35cc286",
   "metadata": {},
   "source": [
    "-----------------\n",
    "Выполнить планирование процессов с использованием алгоритма планирования RR. Вычислить среднее время ожидания и среднее время выполнения процессов. Величина кванта времени = 5.\n",
    "\n",
    "![image.png](attachment:image.png)"
   ]
  },
  {
   "cell_type": "markdown",
   "id": "f6322127",
   "metadata": {},
   "source": [
    "-------------------------\n",
    "Пояснить понятие «файловая структура». Перечислить и охарактеризовать состояния и типы каталогов\n",
    "\n",
    "https://studfile.net/preview/9573953/page:4/"
   ]
  },
  {
   "cell_type": "markdown",
   "id": "0f240e63",
   "metadata": {},
   "source": [
    "-----------------\n",
    "Вы открыли файл ~/.bashrc, добавили в нём алиас, сохранили и закрыли текстовой редактор. Но алиас не работает. В чём может быть причина."
   ]
  },
  {
   "cell_type": "markdown",
   "id": "dff894dc",
   "metadata": {},
   "source": [
    "----------------------\n",
    "Создайте команду getlog, которая будет показывать последние 5 строк файла /var/log/kdump.log и одновременно добавлять вывод в файл mykernellog."
   ]
  },
  {
   "cell_type": "markdown",
   "id": "0ef0f149",
   "metadata": {},
   "source": [
    "-----------\n",
    "Дать определение понятию «файловая система». Перечислить основные функции файловых систем. Привести примеры существующих файловых систем\n",
    "\n",
    "https://studfile.net/preview/5795257/page:18/"
   ]
  },
  {
   "cell_type": "markdown",
   "id": "690f19cd",
   "metadata": {},
   "source": [
    "------------\n",
    "Охарактеризовать состав и возможности реестра операционной системы Windows\n",
    "\n",
    "https://studfile.net/preview/7620357/page:15/"
   ]
  },
  {
   "cell_type": "markdown",
   "id": "1822a4c9",
   "metadata": {},
   "source": [
    "----------\n",
    "Перечислить и охарактеризовать основные блоки утилиты BIOS SETUP\n",
    "\n",
    "https://studfile.net/preview/5514356/page:7/\n",
    "\n",
    "https://www.ixbt.com/mainboard/setup.html"
   ]
  },
  {
   "cell_type": "markdown",
   "id": "aeb4b9fa",
   "metadata": {},
   "source": [
    "---------\n",
    "Перечислить и охарактеризовать функциональные особенности операционной системы семейства Unix\n",
    "\n",
    "https://studfile.net/preview/963653/page:9/"
   ]
  },
  {
   "attachments": {
    "image.png": {
     "image/png": "[encoded data removed]"
    }
   },
   "cell_type": "markdown",
   "id": "f7cb0d5f",
   "metadata": {},
   "source": [
    "---------------\n",
    "Выполнить планирование процессов с использованием невытесняющего алгоритма планирования SJF. Вычислить среднее время ожидания и среднее время выполнения процессов.\n",
    "\n",
    "![image.png](attachment:image.png)"
   ]
  },
  {
   "cell_type": "markdown",
   "id": "53e1d6c7",
   "metadata": {},
   "source": [
    "----------\n",
    "Перечислить и охарактеризовать команды операционной системы MS DOS для работы с дисками\n",
    "\n",
    "https://studfile.net/preview/4001835/page:20/\n",
    "\n",
    "https://inf-3.narod.ru/pm1/lab_dos.pdf"
   ]
  },
  {
   "cell_type": "markdown",
   "id": "d0d1e35a",
   "metadata": {},
   "source": [
    "--------------\n",
    "Охарактеризовать функциональные особенности операционной системы Linux\n",
    "\n",
    "https://studfile.net/preview/4444703/\n",
    "\n",
    "https://blog.skillfactory.ru/glossary/linux/"
   ]
  },
  {
   "attachments": {
    "image.png": {
     "image/png": "[encoded data removed]"
    }
   },
   "cell_type": "markdown",
   "id": "71ff24ec",
   "metadata": {},
   "source": [
    "------------\n",
    "Выполнить планирование процессов с использованием невытесняющего алгоритма планирования SJF. Вычислить среднее время ожидания и среднее время выполнения процессов с учетом момента поступления процессов в систему.\n",
    "\n",
    "![image.png](attachment:image.png)"
   ]
  },
  {
   "cell_type": "markdown",
   "id": "9d15ed45",
   "metadata": {},
   "source": [
    "-------------\n",
    "Перечислить и охарактеризовать команды операционной системы MS DOS для работы с файлами\n",
    "\n",
    "https://phys.bspu.by/static/lib/inf/posob/stu_m/glaves/glava9/gl_9_3.htm"
   ]
  },
  {
   "cell_type": "markdown",
   "id": "29289222",
   "metadata": {},
   "source": [
    "----------------------\n",
    "Дать определение сетевой операционной системы. Перечислить особенности сетевых операционных систем\n",
    "\n",
    "https://studfile.net/preview/3646/\n",
    "\n",
    "https://www.geeksforgeeks.org/what-is-a-network-operating-system/"
   ]
  },
  {
   "cell_type": "markdown",
   "id": "065eaedd",
   "metadata": {},
   "source": [
    "------------\n",
    "Перечислить и охарактеризовать команды операционной системы Linus для работы с дисками\n",
    "\n",
    "https://otus.ru/nest/post/830/\n",
    "\n",
    "https://habr.com/ru/companies/otus/articles/713112/"
   ]
  },
  {
   "cell_type": "markdown",
   "id": "edc6e7d9",
   "metadata": {},
   "source": [
    "-------------\n",
    "Дать определение распределенной операционной системы. Перечислить особенности распределенных операционных систем\n",
    "\n",
    "https://studfile.net/preview/6211039/page:5/\n",
    "\n",
    "https://www.geeksforgeeks.org/what-is-a-distributed-operating-system/"
   ]
  },
  {
   "cell_type": "markdown",
   "id": "dd8a2f0c",
   "metadata": {},
   "source": [
    "---------------\n",
    "Описать структурную схему/архитектуру современной операционной системы Windows\n",
    "\n",
    "https://studfile.net/preview/9768333/page:9/\n",
    "\n",
    "https://fb.ru/article/455504/arhitektura-windows-opisanie-vidyi-struktura"
   ]
  },
  {
   "cell_type": "markdown",
   "id": "dc0495e7",
   "metadata": {},
   "source": [
    "-------\n",
    "Задачи ОС по управлению операциями ввода-вывода. Многослойная модель подсистемы ввода-вывода. \n",
    "\n",
    "https://studfile.net/preview/5687200/page:5/\n",
    "\n",
    "https://en.ppt-online.org/25582"
   ]
  },
  {
   "cell_type": "markdown",
   "id": "750a5bb6",
   "metadata": {},
   "source": [
    "----------------\n",
    "Перечислить и охарактеризовать функции ядра операционной системы Windows\n",
    "\n",
    "https://studfile.net/preview/9865015/\n",
    "\n",
    "https://habr.com/ru/articles/428469/"
   ]
  },
  {
   "cell_type": "markdown",
   "id": "3d6bef71",
   "metadata": {},
   "source": [
    "--------------\n",
    "Перечислить и охарактеризовать операционные системы, предназначенные для мобильных устройств\n",
    "\n",
    "https://www.ixbt.com/live/mobile/istoriya-mobilnyh-operacionnyh-sistem-vspomnim-kakimi-oni-byli.html\n",
    "\n",
    "https://www.oknemuan.ru/files/os/Lektsiya_4_Operatsionnye_sistemy_1698496446.pdf"
   ]
  },
  {
   "cell_type": "markdown",
   "id": "31f068f6",
   "metadata": {},
   "source": [
    "--------------\n",
    "Опишите механизмы управления доступом к ресурсам, параметры политики безопасности, относящиеся к аутентификации и авторизации пользователей при интерактивном входе. Создайте новую группу пользователей с именем «Моя группа». Создайте папку free_access, в которую преподаватели могут записывать и читать файлы, а члены группы Моя группа – только читать."
   ]
  },
  {
   "cell_type": "markdown",
   "id": "576367c5",
   "metadata": {},
   "source": [
    "----------------\n",
    "Архитектура, назначение и области применения Операционной системы специального назначения Astra Linux Special Edition\n",
    "\n",
    "https://rusbitech.ru/assets/press/AstraLinux.pdf\n",
    "\n",
    "https://yztm.ru/wp-content/uploads/2017/09/Opisanie_primeneniya.pdf"
   ]
  },
  {
   "cell_type": "markdown",
   "id": "a555ba5c",
   "metadata": {},
   "source": [
    "---------------\n",
    "Основные подходы к построению защищенных операционных систем. Стандарты безопасности операционных систем.\n",
    "\n",
    "https://studfile.net/preview/1872555/page:20/\n",
    "\n",
    "https://www.geeksforgeeks.org/system-protection-in-operating-system/"
   ]
  },
  {
   "attachments": {
    "image.png": {
     "image/png": "[encoded data removed]"
    }
   },
   "cell_type": "markdown",
   "id": "f50c328b",
   "metadata": {},
   "source": [
    "---------\n",
    "Выполнить планирование процессов с использованием алгоритма RR. Вычислить среднее время ожидания и среднее время выполнения процессов. Величина кванта времени = 1.\n",
    "\n",
    "![image.png](attachment:image.png)"
   ]
  },
  {
   "cell_type": "markdown",
   "id": "ea263d12",
   "metadata": {},
   "source": [
    "-----------\n",
    "Классификация угроз ОС. Источники угроз информационной безопасности и объекты воздействия. \n",
    "\n",
    "https://searchinform.ru/informatsionnaya-bezopasnost/osnovy-ib/ugrozy-informatsionnoj-bezopasnosti/\n",
    "\n",
    "https://ru.wikipedia.org/wiki/Угрозы_информационной_безопасности\n",
    "\n",
    "https://learn.urfu.ru/resource/index/data/resource_id/40977/revision_id/0\n"
   ]
  },
  {
   "cell_type": "markdown",
   "id": "f028acc9",
   "metadata": {},
   "source": [
    "-------------\n",
    "Охарактеризовать механизмы защиты операционной системы семейства Unix\n",
    "\n",
    "https://studfile.net/preview/1049721/page:8/\n",
    "\n",
    "https://habr.com/ru/companies/ruvds/articles/523872/\n"
   ]
  },
  {
   "attachments": {
    "image.png": {
     "image/png": "[encoded data removed]"
    }
   },
   "cell_type": "markdown",
   "id": "2e7bbc3b",
   "metadata": {},
   "source": [
    "---------------\n",
    "Выполнить планирование процессов с использованием алгоритма RR. Вычислить среднее время ожидания и среднее время выполнения процессов. Величина кванта времени = 3.\n",
    "\n",
    "![image.png](attachment:image.png)"
   ]
  },
  {
   "cell_type": "markdown",
   "id": "7b1af59d",
   "metadata": {},
   "source": [
    "-------------\n",
    "Требования, применяемые к виртуализации. Гипервизоры. Технологии эффективной виртуализации. Виртуализация памяти. Виртуализация ввода-вывода.  Виртуальные устройства.\n",
    "\n",
    "https://smartiqa.ru/blog/virtualization\n",
    "\n",
    "https://habr.com/ru/articles/657677/\n",
    "\n",
    "https://firstvds.ru/technology/virtualizaciya-virtualnye-mashiny-i-ih-raznovidnosti"
   ]
  },
  {
   "cell_type": "markdown",
   "id": "9491176b",
   "metadata": {},
   "source": [
    "---------\n",
    "Охарактеризовать механизмы защиты операционной системы семейства Windows\n",
    "\n",
    "https://studfile.net/preview/1673752/page:11/\n",
    "\n",
    "https://studopedia.ru/3_12432_osnovnie-zashchitnie-mehanizmi-os-semeystva-WINDOWS.html"
   ]
  },
  {
   "attachments": {
    "image.png": {
     "image/png": "[encoded data removed]"
    }
   },
   "cell_type": "markdown",
   "id": "f2b5b295",
   "metadata": {},
   "source": [
    "--------------\n",
    "Выполнить планирование процессов с использованием алгоритма RR. Вычислить среднее время ожидания и среднее время выполнения процессов. Величина кванта времени = 4.\n",
    "\n",
    "![image.png](attachment:image.png)"
   ]
  },
  {
   "cell_type": "markdown",
   "id": "42c427c3",
   "metadata": {},
   "source": [
    "--------------\n",
    "Описать структурную схему/архитектуру операционной системы Linux\n",
    "\n",
    "https://habr.com/ru/articles/531872/\n",
    "\n",
    "https://studfile.net/preview/4402807/"
   ]
  },
  {
   "cell_type": "markdown",
   "id": "fe1bd1cd",
   "metadata": {},
   "source": [
    "---------------\n",
    "Перечислите требования, предъявляемые к современным операционным системам\n",
    "\n",
    "https://studfile.net/preview/4034502/page:13/\n",
    "\n",
    "https://ppt-online.org/526707"
   ]
  },
  {
   "cell_type": "markdown",
   "id": "0b1cf3d8",
   "metadata": {},
   "source": [
    "------------\n",
    "Проанализируйте механизмы управления учетными записями пользователей в ОС Windows. Создайте новую группу пользователей с именем «Начинающие пользователи». В чем целесообразность разбиения множества пользователей на группы? Какие группы пользователей создаются автоматически? Создайте новую учетную запись с произвольным логическим именем. Опишите порядок назначения прав пользователям.\n"
   ]
  },
  {
   "cell_type": "markdown",
   "id": "519bf612",
   "metadata": {},
   "source": [
    "-----------------\n",
    "Классификация угроз ОС. Источники угроз информационной безопасности и объекты воздействия. "
   ]
  },
  {
   "cell_type": "markdown",
   "id": "64bb5644",
   "metadata": {},
   "source": [
    "--------------\n",
    "Проанализируйте механизмы управления учетными записями пользователей в ОС Windows. Создайте новую группу пользователей с именем «Начинающие пользователи». В чем целесообразность разбиения множества пользователей на группы? Какие группы пользователей создаются автоматически? Создайте новую учетную запись с произвольным логическим именем. Опишите порядок назначения прав пользователям."
   ]
  },
  {
   "cell_type": "markdown",
   "id": "d0274418",
   "metadata": {},
   "source": [
    "---------------\n",
    "Классификация угроз ОС. Источники угроз информационной безопасности и объекты воздействия.\n",
    "\n",
    "https://iee.unn.ru/wp-content/uploads/sites/9/2018/02/2.Inf.ugrozy-vred.programmykomp.prestupleniya.pdf\n",
    "\n",
    "https://studfile.net/preview/4518611/page:3/"
   ]
  },
  {
   "cell_type": "markdown",
   "id": "26324caf",
   "metadata": {},
   "source": [
    "-------------------\n",
    "Одной командой создайте файлы file20-29. Одной командой создайте жёсткие ссылки на эти файлы в скрытой директории. Одной командой удалите эти файлы в текущей директории."
   ]
  },
  {
   "cell_type": "markdown",
   "id": "32371840",
   "metadata": {},
   "source": [
    "-----------\n",
    "Что происходит с данными при перемещении в рамках одной файловой системы и разных файловых систем.\n",
    "\n",
    "https://studfile.net/preview/8754543/page:3/\n"
   ]
  },
  {
   "cell_type": "markdown",
   "id": "5dc513f9",
   "metadata": {},
   "source": [
    "------------------------------------\n",
    "Используя поиск в less, найдите слово games в файле /etc/passwd."
   ]
  },
  {
   "cell_type": "markdown",
   "id": "b5fb1465",
   "metadata": {},
   "source": [
    "-----------------\n",
    "Создайте символическую ссылку на существующие файл и директорию, а также на несуществующие файл и директорию."
   ]
  },
  {
   "cell_type": "markdown",
   "id": "aab3c8f1",
   "metadata": {},
   "source": [
    "---------\n",
    "Описать структурную схему/архитектуру операционной системы Linux\n",
    "\n",
    "https://studfile.net/preview/5457977/"
   ]
  },
  {
   "cell_type": "markdown",
   "id": "2d440a63",
   "metadata": {},
   "source": [
    "----------\n",
    "Перечислите требования, предъявляемые к современным операционным системам\n",
    "\n",
    "https://studfile.net/preview/4034502/page:13/\n",
    "\n",
    "https://ppt-online.org/526707"
   ]
  },
  {
   "cell_type": "markdown",
   "id": "cbf6d1d0",
   "metadata": {},
   "source": [
    "---------------\n",
    "Создайте файл file1 в директории dir1. Переименуйте файл в file2, не заходя в директорию с помощью cd."
   ]
  }
 ],
 "metadata": {
  "kernelspec": {
   "display_name": "Python 3 (ipykernel)",
   "language": "python",
   "name": "python3"
  },
  "language_info": {
   "codemirror_mode": {
    "name": "ipython",
    "version": 3
   },
   "file_extension": ".py",
   "mimetype": "text/x-python",
   "name": "python",
   "nbconvert_exporter": "python",
   "pygments_lexer": "ipython3",
   "version": "3.11.4"
  }
 },
 "nbformat": 4,
 "nbformat_minor": 5
}
